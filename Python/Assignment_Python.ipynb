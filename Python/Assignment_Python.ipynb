{
 "cells": [
  {
   "cell_type": "markdown",
   "id": "cb713e0f",
   "metadata": {},
   "source": [
    "## Python Assignment\n",
    "### Bansari Prajapati"
   ]
  },
  {
   "cell_type": "markdown",
   "id": "af2e3631",
   "metadata": {},
   "source": [
    "### 1) What are the types of Applications?\n",
    "1. Based on Platform\n",
    "Desktop Applications – Installed and run on a computer (e.g., Microsoft Word, Adobe Photoshop).\n",
    "\n",
    "Web Applications – Run in a browser and require the internet (e.g., Gmail, Google Docs).\n",
    "\n",
    "Mobile Applications – Designed for smartphones or tablets (e.g., Instagram, WhatsApp).\n",
    "\n",
    "2. Based on Functionality\n",
    "Business Applications – Used by businesses for productivity (e.g., CRM, ERP software).\n",
    "\n",
    "Multimedia Applications – For creating or consuming media (e.g., VLC Media Player, Photoshop).\n",
    "\n",
    "Gaming Applications – Designed for entertainment (e.g., PUBG, FIFA).\n",
    "\n",
    "Utility Applications – Help perform specific tasks (e.g., antivirus, file managers).\n",
    "\n",
    "3. Based on Accessibility\n",
    "Standalone Applications – Can function without internet (e.g., Notepad, Calculator).\n",
    "\n",
    "Network Applications – Require internet connectivity (e.g., Google Drive, Slack).\n",
    "\n",
    "4. Based on Development Approach\n",
    "Native Applications – Built specifically for a platform (e.g., iOS or Android apps).\n",
    "\n",
    "Hybrid Applications – A mix of web and native apps (e.g., Ionic, React Native apps).\n",
    "\n",
    "Progressive Web Applications (PWA) – Web apps with mobile-like experiences (e.g., Twitter Lite)."
   ]
  },
  {
   "cell_type": "markdown",
   "id": "fe2ce9a1",
   "metadata": {},
   "source": [
    "### 2) What is programing?\n",
    "Programming is the process of writing instructions that a computer can understand and execute to perform specific tasks. These instructions are written using programming languages like Python, Java, C++, etc.\n",
    "\n"
   ]
  },
  {
   "cell_type": "markdown",
   "id": "8485260b",
   "metadata": {},
   "source": [
    "### 3) What is Python?\n",
    "Python is a high-level, interpreted programming language known for its simplicity and readability. It is widely used in various fields, including web development, data science, artificial intelligence, automation, and more."
   ]
  },
  {
   "cell_type": "code",
   "execution_count": 4,
   "id": "259a80d8",
   "metadata": {},
   "outputs": [
    {
     "name": "stdout",
     "output_type": "stream",
     "text": [
      "Enter any number: -33\n",
      "Negative\n"
     ]
    }
   ],
   "source": [
    "# 4) Write a Python program to check if a number is positive, negative or\n",
    "# zero.\n",
    "\n",
    "num = int(input(\"Enter any number: \"))\n",
    "if num>0:\n",
    "    print(\"Positive\")\n",
    "elif num==0:\n",
    "    print(\"Zero\")\n",
    "else:\n",
    "    print(\"Negative\")"
   ]
  },
  {
   "cell_type": "code",
   "execution_count": 7,
   "id": "0e24321a",
   "metadata": {},
   "outputs": [
    {
     "name": "stdout",
     "output_type": "stream",
     "text": [
      "Enter a number:5\n",
      "120\n"
     ]
    }
   ],
   "source": [
    "# 5)Write a Python program to get the Factorial number of given numbers.\n",
    "n=int(input(\"Enter a number:\"))   # 10!=1*2*3*4...10\n",
    "fact=1\n",
    "for i in range(1,n+1):\n",
    "    fact*=i\n",
    "print(fact)"
   ]
  },
  {
   "cell_type": "code",
   "execution_count": 20,
   "id": "a97ce0ee",
   "metadata": {},
   "outputs": [
    {
     "name": "stdout",
     "output_type": "stream",
     "text": [
      "Enter range: 3\n",
      "[1, 1, 2]\n"
     ]
    }
   ],
   "source": [
    "# 6)Write a Python program to get the Fibonacci series of given range.[1,1,2,3,5,8,13,...]\n",
    "n=int(input(\"Enter range: \"))\n",
    "l=[1,1]\n",
    "for i in range(1,n-1):\n",
    "    s=l[i]+l[i-1]\n",
    "    l.append(s)\n",
    "\n",
    "print(l)\n",
    "\n"
   ]
  },
  {
   "cell_type": "markdown",
   "id": "62910d6e",
   "metadata": {},
   "source": [
    "### 7)How memory is managed in Python?\n",
    "Python’s memory is managed using a private heap and an automatic garbage collector. Uses reference counting and cyclic garbage collection to clean up memory. Optimizations like object pooling, small integer caching, and generational GC help improve performance."
   ]
  },
  {
   "cell_type": "markdown",
   "id": "7b38c2c1",
   "metadata": {},
   "source": [
    "### 8)What is the purpose continuing statement in python?\n",
    "The continue statement is used inside loops to skip the current iteration and move to the next iteration of the loop. It is useful when you want to avoid executing some code inside the loop for specific conditions."
   ]
  },
  {
   "cell_type": "code",
   "execution_count": 24,
   "id": "40e07c0d",
   "metadata": {},
   "outputs": [
    {
     "name": "stdout",
     "output_type": "stream",
     "text": [
      "6 9\n",
      "6 9\n"
     ]
    }
   ],
   "source": [
    "# 9) Write python program that swap two number with temp variable\n",
    "# and without temp variable.\n",
    "a=9\n",
    "b=6\n",
    "c=a\n",
    "a=b\n",
    "b=c\n",
    "print(a,b)\n",
    "\n",
    "\n",
    "#without temp variable\n",
    "a,b=9,6\n",
    "a=a+b\n",
    "b=a-b\n",
    "a=a-b\n",
    "\n",
    "print(a,b)\n"
   ]
  },
  {
   "cell_type": "code",
   "execution_count": 26,
   "id": "2b52fbea",
   "metadata": {},
   "outputs": [
    {
     "name": "stdout",
     "output_type": "stream",
     "text": [
      "34 is Even.\n"
     ]
    }
   ],
   "source": [
    "# 10) Write a Python program to find whether a given number is even\n",
    "# or odd, print out an appropriate message to the user. \n",
    "\n",
    "def check_num(num):\n",
    "    if num%2==0:\n",
    "        print(f\"{num} is Even.\")\n",
    "    else:\n",
    "        print(f\"{num} is Odd.\")\n",
    "\n",
    "check_num(34)"
   ]
  },
  {
   "cell_type": "code",
   "execution_count": 3,
   "id": "2f5cf610",
   "metadata": {},
   "outputs": [
    {
     "name": "stdout",
     "output_type": "stream",
     "text": [
      "its not a vowel.\n"
     ]
    }
   ],
   "source": [
    "# 11) Write a Python program to test whether a passed letter is a vowel\n",
    "# or not.\n",
    "def check_vowel(c):\n",
    "    vowels=['a','e','i','o','u']\n",
    "    if c in vowels:\n",
    "        print(\"It's a vowel.\")\n",
    "    else:\n",
    "        print(\"its not a vowel.\")\n",
    "        \n",
    "check_vowel('b')"
   ]
  },
  {
   "cell_type": "code",
   "execution_count": 9,
   "id": "0765d2a8",
   "metadata": {},
   "outputs": [
    {
     "name": "stdout",
     "output_type": "stream",
     "text": [
      "Enter 1st int:2\n",
      "Enter 2nd int:2\n",
      "Enter 3rd int:4\n"
     ]
    },
    {
     "data": {
      "text/plain": [
       "0"
      ]
     },
     "execution_count": 9,
     "metadata": {},
     "output_type": "execute_result"
    }
   ],
   "source": [
    "# 12) Write a Python program to sum of three given integers. However, if\n",
    "# two values are equal sum will be zero.\n",
    "a=int(input(\"Enter 1st int:\"))\n",
    "b=int(input(\"Enter 2nd int:\"))\n",
    "c=int(input(\"Enter 3rd int:\"))\n",
    "if (a==b or a==c or b==c):\n",
    "    summ=0\n",
    "else:\n",
    "    summ=a+b+c\n",
    "summ\n"
   ]
  },
  {
   "cell_type": "code",
   "execution_count": 11,
   "id": "2b880a21",
   "metadata": {},
   "outputs": [
    {
     "name": "stdout",
     "output_type": "stream",
     "text": [
      "Enter 1st int:2\n",
      "Enter 2nd int:3\n",
      "True\n"
     ]
    }
   ],
   "source": [
    "# 13) Write a Python program that will return true if the two given\n",
    "# integer values are equal or their sum or difference is 5.\n",
    "a=int(input(\"Enter 1st int:\"))\n",
    "b=int(input(\"Enter 2nd int:\"))\n",
    "\n",
    "if a==b or a-b==5 or b-a==5 or a+b==5:\n",
    "    print(\"True\")\n",
    "else:\n",
    "    print(\"False\")"
   ]
  },
  {
   "cell_type": "code",
   "execution_count": 13,
   "id": "0361393d",
   "metadata": {},
   "outputs": [
    {
     "name": "stdout",
     "output_type": "stream",
     "text": [
      "Enter a number:5\n"
     ]
    },
    {
     "data": {
      "text/plain": [
       "15"
      ]
     },
     "execution_count": 13,
     "metadata": {},
     "output_type": "execute_result"
    }
   ],
   "source": [
    "# 14)Write a python program to sum of the first n positive integers.\n",
    "n=int(input(\"Enter a number:\"))\n",
    "summ=0\n",
    "for i in range(1,n+1):\n",
    "    summ+=i\n",
    "    \n",
    "summ"
   ]
  },
  {
   "cell_type": "code",
   "execution_count": 15,
   "id": "fe8f2d6f",
   "metadata": {},
   "outputs": [
    {
     "name": "stdout",
     "output_type": "stream",
     "text": [
      "Enter a word:heyyy\n",
      "5\n"
     ]
    }
   ],
   "source": [
    "# 15)Write a Python program to calculate the length of a string.\n",
    "word=input(\"Enter a string:\")\n",
    "\n",
    "print(len(word))"
   ]
  },
  {
   "cell_type": "code",
   "execution_count": 16,
   "id": "f467ed9f",
   "metadata": {},
   "outputs": [
    {
     "name": "stdout",
     "output_type": "stream",
     "text": [
      "Enter a string:bansari\n",
      "6\n"
     ]
    }
   ],
   "source": [
    "# 16) Write a Python program to count the number of characters\n",
    "# (character frequency) in a string\n",
    "word=set(input(\"Enter a string:\"))\n",
    "print(len(word))"
   ]
  },
  {
   "cell_type": "markdown",
   "id": "fe381aeb",
   "metadata": {},
   "source": [
    "### 17)What are negative indexes and why are they used?\n",
    "In Python, negative indexes are used to access elements from the end of a sequence (like a list, tuple, or string). Instead of counting from the beginning with positive indexes, negative indexes start from -1 for the last element, -2 for the second-last, and so on.\n",
    "\n",
    "It is used for easier Access to End Elements, Avoid Length Calculation, Useful in Slicing, and makes Code More Readable"
   ]
  },
  {
   "cell_type": "code",
   "execution_count": 20,
   "id": "309b3bd6",
   "metadata": {},
   "outputs": [
    {
     "name": "stdout",
     "output_type": "stream",
     "text": [
      "Enter a string:banana\n",
      "Enter a substring:an\n",
      "2\n"
     ]
    }
   ],
   "source": [
    "# 18)Write a Python program to count occurrences of a substring in a string.\n",
    "string=input(\"Enter a string:\")\n",
    "substring=input(\"Enter a substring:\")\n",
    "\n",
    "print(string.count(substring))"
   ]
  },
  {
   "cell_type": "code",
   "execution_count": 34,
   "id": "f3cee2ec",
   "metadata": {},
   "outputs": [
    {
     "name": "stdout",
     "output_type": "stream",
     "text": [
      "Enter a string:bansari is a nice girl\n",
      "['bansari', 'is', 'a', 'nice', 'girl']\n",
      "{'bansari': 1, 'is': 1, 'a': 1, 'nice': 1, 'girl': 1}\n"
     ]
    }
   ],
   "source": [
    "# 19) Write a Python program to count the occurrences of each word in a sentence\n",
    "def count_words(sentence):\n",
    "    words = sentence.split()\n",
    "    print(words)\n",
    "    word_count = {}\n",
    "    for word in words:\n",
    "        word_count[word] = word_count.get(word, 0) + 1  # Increment count\n",
    "    return word_count\n",
    "\n",
    "\n",
    "Sentence=input(\"Enter a string:\")\n",
    "word_counts = count_words(Sentence)\n",
    "\n",
    "print(word_counts)\n"
   ]
  },
  {
   "cell_type": "code",
   "execution_count": 52,
   "id": "24847d38",
   "metadata": {},
   "outputs": [
    {
     "name": "stdout",
     "output_type": "stream",
     "text": [
      "Prnsari Baajapati\n"
     ]
    }
   ],
   "source": [
    "# 20) Write a Python program to get a single string from two given strings,\n",
    "# separated by a space and swap the first two characters of each string.\n",
    "def combine_strings(a,b):\n",
    "    if len(a) < 2 or len(b) < 2:\n",
    "        return \"Strings must have at least 2 characters\"\n",
    "    \n",
    "    new_str1 = b[:2] + a[2:]\n",
    "    new_str2 = a[:2] + b[2:]\n",
    "\n",
    "    print(new_str1 + \" \" + new_str2)\n",
    "\n",
    "combine_strings('Bansari', 'Prajapati')"
   ]
  },
  {
   "cell_type": "code",
   "execution_count": 13,
   "id": "1ab43a71",
   "metadata": {},
   "outputs": [
    {
     "name": "stdout",
     "output_type": "stream",
     "text": [
      "waitingly\n"
     ]
    }
   ],
   "source": [
    "# 21) Write a Python program to add 'in' at the end of a given string (length\n",
    "# should be at least 3). If the given string already ends with 'ing' then\n",
    "# add 'ly' instead if the string length of the given string is less than 3,\n",
    "# leave it unchanged.\n",
    "\n",
    "def change_string(string):\n",
    "    if len(string)>=3:\n",
    "        check_str=string[:3:-1]\n",
    "        if check_str[::-1]=='ing':\n",
    "            new_str=string+'ly'\n",
    "        else:\n",
    "            new_str=string+'in'\n",
    "    else:\n",
    "        new_str=string\n",
    "    print(new_str)\n",
    "    \n",
    "change_string(\"waiting\")"
   ]
  },
  {
   "cell_type": "code",
   "execution_count": 14,
   "id": "6dcb2d01",
   "metadata": {},
   "outputs": [
    {
     "name": "stdout",
     "output_type": "stream",
     "text": [
      "PirasnaB\n"
     ]
    }
   ],
   "source": [
    "# 22) Write a Python function to reverses a string if its length is a multiple\n",
    "# of 4.\n",
    "def reverse_str(string):\n",
    "    if len(string)%4==0:\n",
    "        rev=string[::-1]\n",
    "    else:\n",
    "        rev=string\n",
    "    print(rev)\n",
    "\n",
    "reverse_str(\"BansariP\")"
   ]
  },
  {
   "cell_type": "code",
   "execution_count": 9,
   "id": "cd0670c8",
   "metadata": {},
   "outputs": [
    {
     "data": {
      "text/plain": [
       "'Bao?'"
      ]
     },
     "execution_count": 9,
     "metadata": {},
     "output_type": "execute_result"
    }
   ],
   "source": [
    "# 23) Write a Python program to get a string made of the first 2 and the last\n",
    "# 2 chars from a given a string. If the string length is less than 2, return\n",
    "# instead of the empty string.\n",
    "def get_string(string):\n",
    "    if len(string)>=2:\n",
    "        another=string[:-3:-1]\n",
    "#         print(another)\n",
    "        new_str=string[0:2]+another[::-1]\n",
    "    else:\n",
    "        string=''\n",
    "        return string\n",
    "    return new_str\n",
    "\n",
    "get_string(\"Bansari hii hello?\")"
   ]
  },
  {
   "cell_type": "code",
   "execution_count": 18,
   "id": "297b6d0d",
   "metadata": {},
   "outputs": [
    {
     "name": "stdout",
     "output_type": "stream",
     "text": [
      "len is 9\n",
      "hence middle is 4\n",
      "Enter a string to add in middle: hehe\n"
     ]
    },
    {
     "data": {
      "text/plain": [
       "'Prajheheapati'"
      ]
     },
     "execution_count": 18,
     "metadata": {},
     "output_type": "execute_result"
    }
   ],
   "source": [
    "# 24)Write a Python function to insert a string in the middle of a string.\n",
    "def get_string(string):\n",
    "    print(f\"len is {len(string)}\")\n",
    "    n=int(len(string)/2)\n",
    "    print(f\"hence middle is {n}\")\n",
    "    str1=input(\"Enter a string to add in middle: \")\n",
    "    new_str=string[:n]+str1+string[n:]\n",
    "    return new_str\n",
    "\n",
    "get_string(\"Prajapati\")"
   ]
  },
  {
   "cell_type": "markdown",
   "id": "d206fb4e",
   "metadata": {},
   "source": [
    "### 25)What is List? How will you reverse a list?\n",
    "A list in Python is an ordered, mutable (changeable) collection of elements. Lists can hold different data types, including numbers, strings, and even other lists."
   ]
  },
  {
   "cell_type": "markdown",
   "id": "2d7ae8ee",
   "metadata": {},
   "source": [
    "### 26)How will you remove last object from a list?\n",
    "1. Use pop() if you need the removed item.\n",
    "\n",
    "2. Use del for simple deletion without return.\n",
    "\n",
    "3. Use slicing ([:-1]) if you prefer an immutable approach.\n",
    "\n"
   ]
  },
  {
   "cell_type": "markdown",
   "id": "7bfea977",
   "metadata": {},
   "source": [
    "### 27)Suppose list1 is [2, 33, 222, 14, and 25], what is list1 [-1]?\n",
    "-> it means last element of the list which is 25"
   ]
  },
  {
   "cell_type": "markdown",
   "id": "815da420",
   "metadata": {},
   "source": [
    "### 28)Differentiate between append () and extend () methods?\n",
    "1. append() – Adds a Single Element to the List\n",
    "\n",
    "->Takes one argument and adds it as a single element at the end of the list.\n",
    "\n",
    "->If you pass a list, it adds the entire list as one item (nested list).\n",
    "\n",
    "2. extend() – Adds Each Element of an Iterable to the List\n",
    "\n",
    "->Takes an iterable (like a list, tuple, or set) and adds each element individually to the existing list.\n",
    "\n",
    "->The original list gets extended instead of nesting the new elements."
   ]
  },
  {
   "cell_type": "code",
   "execution_count": 19,
   "id": "92ba74a0",
   "metadata": {},
   "outputs": [
    {
     "name": "stdout",
     "output_type": "stream",
     "text": [
      "Max value: 88\n",
      "Min value: 1\n",
      "Sum: 187\n"
     ]
    }
   ],
   "source": [
    "# 29) Write a Python function to get the largest number, smallest num\n",
    "# and sum of all from a list. \n",
    "l=[12,43,1,2,7,88,34]\n",
    "print(f\"Max value: {max(l)}\")\n",
    "print(f\"Min value: {min(l)}\")\n",
    "print(f\"Sum: {sum(l)}\")"
   ]
  },
  {
   "cell_type": "markdown",
   "id": "7dd14ed5",
   "metadata": {},
   "source": [
    "### 30)How will you compare two lists? \n",
    "-> There are different methods for comparing lists \n",
    "1. Use == if order and duplicates matter.\n",
    "\n",
    "2. Use set() if you only care about unique elements.\n",
    "\n",
    "3. Use Counter() if you need to check element frequency but not order.\n",
    "\n",
    "4. Use a loop if you need a manual comparison for large data."
   ]
  },
  {
   "cell_type": "code",
   "execution_count": 10,
   "id": "2ea4a823",
   "metadata": {},
   "outputs": [
    {
     "name": "stdout",
     "output_type": "stream",
     "text": [
      "3\n"
     ]
    }
   ],
   "source": [
    "# 31) Write a Python program to count the number of strings where the string\n",
    "# length is 2 or more and the first and last character are same from a given list\n",
    "# of strings.\n",
    "\n",
    "l=[\"bansari\", \"Prajapati\", \"cac\", \"ball\", \"that\", \"thought\"]\n",
    "count=0\n",
    "for i in l:\n",
    "    if len(i)>=2 and i[0]==i[-1]:\n",
    "        count+=1\n",
    "print(count)"
   ]
  },
  {
   "cell_type": "code",
   "execution_count": 2,
   "id": "632e6386",
   "metadata": {},
   "outputs": [
    {
     "name": "stdout",
     "output_type": "stream",
     "text": [
      "[1, 2, 3, 66, 33, 7]\n"
     ]
    }
   ],
   "source": [
    "# 32)Write a Python program to remove duplicates from a list.\n",
    "l=[1,2,3,66,1,7,2,33]\n",
    "s=set(l)\n",
    "print(list(s))\n"
   ]
  },
  {
   "cell_type": "code",
   "execution_count": 8,
   "id": "eeca2d29",
   "metadata": {},
   "outputs": [
    {
     "name": "stdout",
     "output_type": "stream",
     "text": [
      "Empty!!\n"
     ]
    }
   ],
   "source": [
    "# 33)Write a Python program to check a list is empty or not.\n",
    "l=[]\n",
    "if not l:\n",
    "    print(\"Empty!!\")\n",
    "else:\n",
    "    print(l)"
   ]
  },
  {
   "cell_type": "code",
   "execution_count": 16,
   "id": "4f8fe16a",
   "metadata": {},
   "outputs": [
    {
     "name": "stdout",
     "output_type": "stream",
     "text": [
      "True\n"
     ]
    }
   ],
   "source": [
    "# 34) Write a Python function that takes two lists and returns true if they\n",
    "# have at least one common member.\n",
    "def common_member(l1,l2):\n",
    "    l1=set(l1)\n",
    "    l2=set(l2)\n",
    "    if l1&l2!=None:\n",
    "        print(\"True\")\n",
    "\n",
    "common_member([1,2,3,4,5],[3,4,5,6,7])"
   ]
  },
  {
   "cell_type": "code",
   "execution_count": 15,
   "id": "389fb9fb",
   "metadata": {},
   "outputs": [
    {
     "data": {
      "text/plain": [
       "[1, 4, 9, 16, 25, 676, 729, 784, 841, 900]"
      ]
     },
     "execution_count": 15,
     "metadata": {},
     "output_type": "execute_result"
    }
   ],
   "source": [
    "# 35) Write a Python program to generate and print a list of first and last 5\n",
    "# elements where the values are square of numbers between 1 and 30.\n",
    "l1=list(i for i in range(1,31))\n",
    "new_l = list(map(lambda x: x**2, l1))\n",
    "new_l = new_l[:5] + new_l[25:31]\n",
    "new_l"
   ]
  },
  {
   "cell_type": "code",
   "execution_count": 18,
   "id": "37f14cfa",
   "metadata": {},
   "outputs": [
    {
     "name": "stdout",
     "output_type": "stream",
     "text": [
      "[1, 2, 5, 6, 7, 10, 81]\n"
     ]
    }
   ],
   "source": [
    "# 36) Write a Python function that takes a list and returns a new list with\n",
    "# unique elements of the first list.\n",
    "def unique_value(l1):\n",
    "    l1=set(l1)\n",
    "    l1=list(l1)\n",
    "    print(l1)\n",
    "    \n",
    "l1=[1,2,5,2,6,81,7,2,5,10]\n",
    "unique_value(l1)"
   ]
  },
  {
   "cell_type": "code",
   "execution_count": 27,
   "id": "e76e519e",
   "metadata": {},
   "outputs": [
    {
     "data": {
      "text/plain": [
       "'Bhii##nr'"
      ]
     },
     "execution_count": 27,
     "metadata": {},
     "output_type": "execute_result"
    }
   ],
   "source": [
    "# 37)Write a Python program to convert a list of characters into a string.\n",
    "l1=['B','hii','##','n','r']\n",
    "b=''.join(i for i in l1)\n",
    "b"
   ]
  },
  {
   "cell_type": "code",
   "execution_count": 30,
   "id": "19c469ad",
   "metadata": {},
   "outputs": [
    {
     "data": {
      "text/plain": [
       "'n'"
      ]
     },
     "execution_count": 30,
     "metadata": {},
     "output_type": "execute_result"
    }
   ],
   "source": [
    "# 38)Write a Python program to select an item randomly from a list.\n",
    "import random\n",
    "l1\n",
    "random.choice(l1)"
   ]
  },
  {
   "cell_type": "code",
   "execution_count": 43,
   "id": "3f9a58ec",
   "metadata": {},
   "outputs": [
    {
     "name": "stdout",
     "output_type": "stream",
     "text": [
      "1.4\n"
     ]
    }
   ],
   "source": [
    "# 39)Write a Python program to find the second smallest number in a list.\n",
    "def second_smallest(numbers):\n",
    "    numbers = list(set(numbers))  \n",
    "    if len(numbers) < 2:\n",
    "        return None  \n",
    "    numbers.sort()\n",
    "    return numbers[1]\n",
    "\n",
    "l1 = [5, 1, 4, 2, 1, 4, 1.4, 2, 3]\n",
    "print(second_smallest(my_list))"
   ]
  },
  {
   "cell_type": "code",
   "execution_count": 46,
   "id": "511026eb",
   "metadata": {},
   "outputs": [
    {
     "data": {
      "text/plain": [
       "[1, 2, 3, 4, 5]"
      ]
     },
     "execution_count": 46,
     "metadata": {},
     "output_type": "execute_result"
    }
   ],
   "source": [
    "# 40)Write a Python program to get unique values from a list \n",
    "l1 = [1, 2, 2, 3, 4, 4, 5]\n",
    "unique_values = list(set(l1))\n",
    "unique_values"
   ]
  },
  {
   "cell_type": "code",
   "execution_count": 49,
   "id": "3f5faf3a",
   "metadata": {},
   "outputs": [
    {
     "name": "stdout",
     "output_type": "stream",
     "text": [
      "True\n"
     ]
    }
   ],
   "source": [
    "# 41)Write a Python program to check whether a list contains a sub list\n",
    "\n",
    "def is_sublist(main_list, sub_list):\n",
    "    sub_len = len(sub_list)\n",
    "    for i in range(len(main_list) - sub_len + 1):\n",
    "        if main_list[i:i+sub_len] == sub_list:\n",
    "            return True\n",
    "    return False\n",
    "\n",
    "main_list = [1, 2, 3, 4, 5]\n",
    "sub_list = [3, 4]\n",
    "\n",
    "print(is_sublist(main_list, sub_list))\n"
   ]
  },
  {
   "cell_type": "code",
   "execution_count": 50,
   "id": "9cf99ed7",
   "metadata": {},
   "outputs": [
    {
     "name": "stdout",
     "output_type": "stream",
     "text": [
      "a = 1\n",
      "b = 2\n",
      "c = 3\n"
     ]
    }
   ],
   "source": [
    "# 42)Write a Python program to split a list into different variables.\n",
    "my_list = [1, 2, 3]\n",
    "a, b, c = my_list\n",
    "print(\"a =\", a)\n",
    "print(\"b =\", b)\n",
    "print(\"c =\", c)\n"
   ]
  },
  {
   "cell_type": "markdown",
   "id": "bf32aeab",
   "metadata": {},
   "source": [
    "### 43)What is tuple? Difference between list and tuple.\n",
    "A tuple is a collection of ordered and immutable elements."
   ]
  },
  {
   "cell_type": "code",
   "execution_count": 51,
   "id": "99c15f64",
   "metadata": {},
   "outputs": [
    {
     "name": "stdout",
     "output_type": "stream",
     "text": [
      "(25, 'Hello', 3.14, True)\n"
     ]
    }
   ],
   "source": [
    "# 44)Write a Python program to create a tuple with different data types.\n",
    "mixed_tuple = (25, \"Hello\", 3.14, True)\n",
    "print(mixed_tuple)\n"
   ]
  },
  {
   "cell_type": "code",
   "execution_count": 52,
   "id": "e6523ba9",
   "metadata": {},
   "outputs": [
    {
     "name": "stdout",
     "output_type": "stream",
     "text": [
      "Numbers: [1, 2, 3]\n",
      "Characters: ['a', 'b', 'c']\n"
     ]
    }
   ],
   "source": [
    "# 45)Write a Python program to unzip a list of tuples into individual lists. \n",
    "\n",
    "zipped_list = [(1, 'a'), (2, 'b'), (3, 'c')]\n",
    "nums, chars = zip(*zipped_list)\n",
    "\n",
    "print(\"Numbers:\", list(nums))\n",
    "print(\"Characters:\", list(chars))"
   ]
  },
  {
   "cell_type": "code",
   "execution_count": 53,
   "id": "94d3eb7a",
   "metadata": {},
   "outputs": [
    {
     "name": "stdout",
     "output_type": "stream",
     "text": [
      "{'a': 1, 'b': 2, 'c': 3}\n"
     ]
    }
   ],
   "source": [
    "# 46) Convert a List of Tuples into a Dictionary\n",
    "\n",
    "list_of_tuples = [(\"a\", 1), (\"b\", 2), (\"c\", 3)]\n",
    "converted_dict = dict(list_of_tuples)\n",
    "print(converted_dict)\n"
   ]
  },
  {
   "cell_type": "code",
   "execution_count": 54,
   "id": "d1992394",
   "metadata": {},
   "outputs": [
    {
     "name": "stdout",
     "output_type": "stream",
     "text": [
      "{'x': 10, 'y': 20}\n"
     ]
    }
   ],
   "source": [
    "# 47) Create a Dictionary Using Tuples\n",
    "tuple_data = ((\"x\", 10), (\"y\", 20))\n",
    "my_dict = dict(tuple_data)\n",
    "print(my_dict)\n"
   ]
  },
  {
   "cell_type": "code",
   "execution_count": 59,
   "id": "91c33075",
   "metadata": {},
   "outputs": [
    {
     "name": "stdout",
     "output_type": "stream",
     "text": [
      "Ascending: {'banana': 5, 'apple': 10, 'cherry': 20}\n",
      "Descending: {'cherry': 20, 'apple': 10, 'banana': 5}\n"
     ]
    }
   ],
   "source": [
    "# 48) Sort a Dictionary by Value (Ascending and Descending)\n",
    "my_dict = {'apple': 10, 'banana': 5, 'cherry': 20}\n",
    "\n",
    "# Ascending\n",
    "asc = dict(sorted(my_dict.items(), key=lambda i: i[1]))\n",
    "print(\"Ascending:\", asc)\n",
    "\n",
    "# Descending\n",
    "desc = dict(sorted(my_dict.items(), key=lambda i: i[1], reverse=True))\n",
    "print(\"Descending:\", desc)\n"
   ]
  },
  {
   "cell_type": "code",
   "execution_count": 60,
   "id": "871398d5",
   "metadata": {},
   "outputs": [
    {
     "name": "stdout",
     "output_type": "stream",
     "text": [
      "Combined: {'a': 1, 'b': 2, 'c': 3}\n"
     ]
    }
   ],
   "source": [
    "# 49) Concatenate Multiple Dictionaries\n",
    "dict1 = {'a': 1}\n",
    "dict2 = {'b': 2}\n",
    "dict3 = {'c': 3}\n",
    "\n",
    "combined_dict = {**dict1, **dict2, **dict3}\n",
    "print(\"Combined:\", combined_dict)\n"
   ]
  },
  {
   "cell_type": "code",
   "execution_count": 61,
   "id": "0e04b7ab",
   "metadata": {},
   "outputs": [
    {
     "name": "stdout",
     "output_type": "stream",
     "text": [
      "Key exists.\n"
     ]
    }
   ],
   "source": [
    "# 50) Check if a Given Key Exists in a Dictionary\n",
    "my_dict = {'name': 'Alice', 'age': 25}\n",
    "key_to_check = 'age'\n",
    "\n",
    "if key_to_check in my_dict:\n",
    "    print(\"Key exists.\")\n",
    "else:\n",
    "    print(\"Key does not exist.\")\n"
   ]
  },
  {
   "cell_type": "code",
   "execution_count": 63,
   "id": "5f56972e",
   "metadata": {},
   "outputs": [
    {
     "name": "stdout",
     "output_type": "stream",
     "text": [
      "Key: x, Value: 10\n",
      "Key: y, Value: 20\n"
     ]
    }
   ],
   "source": [
    "# 51)How Do You Traverse Through a Dictionary Object in Python?\n",
    "dict1 = {'x': 10, 'y': 20}\n",
    "\n",
    "for key, value in dict1.items():\n",
    "    print(f\"Key: {key}, Value: {value}\")\n"
   ]
  },
  {
   "cell_type": "code",
   "execution_count": 64,
   "id": "ad56102c",
   "metadata": {},
   "outputs": [
    {
     "name": "stdout",
     "output_type": "stream",
     "text": [
      "True\n",
      "False\n"
     ]
    }
   ],
   "source": [
    "# 52)How Do You Check the Presence of a Key in A Dictionary?\n",
    "my_dict = {'a': 1, 'b': 2}\n",
    "\n",
    "print('a' in my_dict)  \n",
    "print('z' in my_dict)  \n"
   ]
  },
  {
   "cell_type": "code",
   "execution_count": 65,
   "id": "b1ce3b30",
   "metadata": {},
   "outputs": [
    {
     "name": "stdout",
     "output_type": "stream",
     "text": [
      "{1: 1, 2: 4, 3: 9, 4: 16, 5: 25, 6: 36, 7: 49, 8: 64, 9: 81, 10: 100, 11: 121, 12: 144, 13: 169, 14: 196, 15: 225}\n"
     ]
    }
   ],
   "source": [
    "# 53)Write a Python script to print a dictionary where the keys are\n",
    "# numbers between 1 and 15. \n",
    "\n",
    "my_dict = {i: i**2 for i in range(1, 16)}\n",
    "print(my_dict)"
   ]
  },
  {
   "cell_type": "code",
   "execution_count": 67,
   "id": "a966da51",
   "metadata": {},
   "outputs": [
    {
     "name": "stdout",
     "output_type": "stream",
     "text": [
      "All keys exist.\n"
     ]
    }
   ],
   "source": [
    "# 54)Write a Python program to check multiple keys exists in a dictionary\n",
    "my_dict = {'a': 1, 'b': 2, 'c': 3}\n",
    "keys_to_check = ['a', 'c']\n",
    "\n",
    "if all(key in my_dict for key in keys_to_check):\n",
    "    print(\"All keys exist.\")\n",
    "else:\n",
    "    print(\"One or more keys doesnot exists.\")\n"
   ]
  },
  {
   "cell_type": "code",
   "execution_count": 69,
   "id": "098eae8c",
   "metadata": {},
   "outputs": [
    {
     "name": "stdout",
     "output_type": "stream",
     "text": [
      "After update: {'x': 1, 'y': 3, 'z': 4}\n"
     ]
    }
   ],
   "source": [
    "# 55)Write a Python script to merge two Python dictionaries\n",
    "dict1 = {'x': 1, 'y': 2}\n",
    "dict2 = {'y': 3, 'z': 4}\n",
    "\n",
    "dict1.update(dict2)\n",
    "print(\"After update:\", dict1)\n"
   ]
  },
  {
   "cell_type": "code",
   "execution_count": 70,
   "id": "b05ab87f",
   "metadata": {},
   "outputs": [
    {
     "name": "stdout",
     "output_type": "stream",
     "text": [
      "Mapped Dictionary: {'name': 'Alice', 'age': 25, 'country': 'Canada'}\n"
     ]
    }
   ],
   "source": [
    "# 56)Write a Python program to map two lists into a dictionary \n",
    "keys = ['name', 'age', 'country']\n",
    "values = ['Alice', 25, 'Canada']\n",
    "\n",
    "mapped_dict = dict(zip(keys, values))\n",
    "\n",
    "print(\"Mapped Dictionary:\", mapped_dict)\n"
   ]
  },
  {
   "cell_type": "code",
   "execution_count": 79,
   "id": "3a6e80e0",
   "metadata": {},
   "outputs": [
    {
     "name": "stdout",
     "output_type": "stream",
     "text": [
      "[300, 200, 150]\n"
     ]
    }
   ],
   "source": [
    "# 57)Write a Python program to find the highest 3 values in a dictionary\n",
    "my_dict = {'a': 100, 'b': 200, 'c': 50, 'd': 300, 'e': 150}\n",
    "top_three = sorted(my_dict.values(), reverse=True)[:3]\n",
    "print(top_three)\n"
   ]
  },
  {
   "cell_type": "code",
   "execution_count": 80,
   "id": "959f4815",
   "metadata": {},
   "outputs": [
    {
     "name": "stdout",
     "output_type": "stream",
     "text": [
      "Counter({'item1': 1150, 'item2': 300})\n"
     ]
    }
   ],
   "source": [
    "# 58)Write a Python program to combine values in python list of dictionaries.\n",
    "# Sample data: [{'item': 'item1', 'amount': 400}, {'item': 'item2', 'amount':\n",
    "# 300}, o {'item': 'item1', 'amount': 750}]\n",
    "# Expected Output:\n",
    "# • Counter ({'item1': 1150, 'item2': 300})\n",
    "from collections import Counter\n",
    "\n",
    "data = [{'item': 'item1', 'amount': 400}, {'item': 'item2', 'amount': 300}, {'item': 'item1', 'amount': 750}]\n",
    "result = Counter()\n",
    "\n",
    "for entry in data:\n",
    "    result[entry['item']] += entry['amount']\n",
    "\n",
    "print(result)\n"
   ]
  },
  {
   "cell_type": "code",
   "execution_count": 81,
   "id": "80f30c4e",
   "metadata": {},
   "outputs": [
    {
     "name": "stdout",
     "output_type": "stream",
     "text": [
      "{'w': 1, '3': 1, 'r': 2, 'e': 2, 's': 1, 'o': 1, 'u': 1, 'c': 1}\n"
     ]
    }
   ],
   "source": [
    "# 59)Write a Python program to create a dictionary from a string.\n",
    "# Note: Track the count of the letters from the string.\n",
    "from collections import Counter\n",
    "\n",
    "string = 'w3resource'\n",
    "letter_count = Counter(string)\n",
    "\n",
    "print(dict(letter_count))\n"
   ]
  },
  {
   "cell_type": "code",
   "execution_count": 82,
   "id": "8fe36f34",
   "metadata": {},
   "outputs": [
    {
     "name": "stdout",
     "output_type": "stream",
     "text": [
      "{'w': 1, '3': 1, 'r': 2, 'e': 2, 's': 1, 'o': 1, 'u': 1, 'c': 1}\n"
     ]
    }
   ],
   "source": [
    "# 60)Sample string:\n",
    "#  'w3resource' Expected output:\n",
    "# • {'3': 1,’s’: 1, 'r': 2, 'u': 1, 'w': 1, 'c': 1, 'e': 2, 'o': 1}\n",
    "from collections import Counter\n",
    "\n",
    "string = 'w3resource'\n",
    "letter_count = Counter(string)\n",
    "\n",
    "print(dict(letter_count))\n"
   ]
  },
  {
   "cell_type": "code",
   "execution_count": 88,
   "id": "3d4ce05e",
   "metadata": {},
   "outputs": [
    {
     "name": "stdout",
     "output_type": "stream",
     "text": [
      "120\n"
     ]
    }
   ],
   "source": [
    "# 61)Write a Python function to calculate the factorial of a number (a\n",
    "# nonnegative integer)\n",
    "def factorial(n):\n",
    "    if n < 0:\n",
    "        return \"Invalid input\"\n",
    "    if n == 0 or n == 1:\n",
    "        return 1\n",
    "    return n * factorial(n - 1)\n",
    "\n",
    "print(factorial(5)) "
   ]
  },
  {
   "cell_type": "code",
   "execution_count": 89,
   "id": "44c246de",
   "metadata": {},
   "outputs": [
    {
     "name": "stdout",
     "output_type": "stream",
     "text": [
      "True\n",
      "False\n"
     ]
    }
   ],
   "source": [
    "# 62)Write a Python function to check whether a number is in a given range\n",
    "def is_in_range(num, start, end):\n",
    "    return start <= num <= end\n",
    "\n",
    "print(is_in_range(5, 1, 10))  \n",
    "print(is_in_range(15, 1, 10))  "
   ]
  },
  {
   "cell_type": "code",
   "execution_count": 87,
   "id": "f145ff4c",
   "metadata": {},
   "outputs": [
    {
     "name": "stdout",
     "output_type": "stream",
     "text": [
      "True\n",
      "False\n"
     ]
    }
   ],
   "source": [
    "# 63)Write a Python function to check whether a number is perfect or not.\n",
    "def is_perfect(n):\n",
    "    if n < 1:\n",
    "        return False\n",
    "    divisors = [i for i in range(1, n) if n % i == 0]\n",
    "    return sum(divisors) == n\n",
    "\n",
    "print(is_perfect(28))  \n",
    "print(is_perfect(10)) \n"
   ]
  },
  {
   "cell_type": "code",
   "execution_count": 91,
   "id": "f741e1d1",
   "metadata": {},
   "outputs": [
    {
     "name": "stdout",
     "output_type": "stream",
     "text": [
      "True\n",
      "False\n"
     ]
    }
   ],
   "source": [
    "# 64)Write a Python function that checks whether a passed string is\n",
    "# palindrome or not\n",
    "def is_palindrome(s):\n",
    "    return s == s[::-1]\n",
    "\n",
    "print(is_palindrome(\"madam\"))  \n",
    "print(is_palindrome(\"hello\"))  \n"
   ]
  },
  {
   "cell_type": "markdown",
   "id": "129479c0",
   "metadata": {},
   "source": [
    "### 65)How Many Basic Types of Functions Are Available in Python? \n",
    "Python has two basic types of functions:\n",
    "\n",
    "Built-in Functions – Predefined (e.g., len(), sum(), print())\n",
    "\n",
    "User-defined Functions – Created by users using the def keyword\n",
    "\n"
   ]
  },
  {
   "cell_type": "code",
   "execution_count": 95,
   "id": "d8424221",
   "metadata": {},
   "outputs": [
    {
     "name": "stdout",
     "output_type": "stream",
     "text": [
      "Random item from list: 50\n",
      "Random item from tuple: b\n"
     ]
    }
   ],
   "source": [
    "# 66)How can you pick a random item from a list or tuple?\n",
    "import random\n",
    "\n",
    "my_list = [10, 20, 30, 40, 50]\n",
    "print(\"Random item from list:\", random.choice(my_list))\n",
    "\n",
    "my_tuple = ('a', 'b', 'c', 'd')\n",
    "print(\"Random item from tuple:\", random.choice(my_tuple))\n"
   ]
  },
  {
   "cell_type": "code",
   "execution_count": 98,
   "id": "abc55d34",
   "metadata": {},
   "outputs": [
    {
     "name": "stdout",
     "output_type": "stream",
     "text": [
      "Random item from range using randrange: 4\n"
     ]
    }
   ],
   "source": [
    "# 67)How can you pick a random item from a range?\n",
    "import random\n",
    "\n",
    "print(\"Random item from range using randrange:\", random.randrange(1, 101))\n"
   ]
  },
  {
   "cell_type": "code",
   "execution_count": 100,
   "id": "a462c51f",
   "metadata": {},
   "outputs": [
    {
     "name": "stdout",
     "output_type": "stream",
     "text": [
      "Random integer: 46\n",
      "Random float: 0.5537616304884675\n",
      "Random float (10 to 20): 13.917745870439324\n"
     ]
    }
   ],
   "source": [
    "# 68)How can you get a random number in python?\n",
    "import random\n",
    "\n",
    "\n",
    "print(\"Random integer:\", random.randint(1, 100))\n",
    "\n",
    "\n",
    "print(\"Random float:\", random.random())\n",
    "\n",
    "\n",
    "print(\"Random float (10 to 20):\", random.uniform(10, 20))\n"
   ]
  },
  {
   "cell_type": "code",
   "execution_count": 102,
   "id": "b695a940",
   "metadata": {
    "scrolled": true
   },
   "outputs": [
    {
     "name": "stdout",
     "output_type": "stream",
     "text": [
      "Random number with seed 10: 74\n"
     ]
    }
   ],
   "source": [
    "# 69)How will you set the starting value in generating random numbers? \n",
    "import random\n",
    "\n",
    "random.seed(10)\n",
    "\n",
    "print(\"Random number with seed 10:\", random.randint(1, 100))\n"
   ]
  },
  {
   "cell_type": "code",
   "execution_count": 123,
   "id": "9ea1912d",
   "metadata": {},
   "outputs": [
    {
     "name": "stdout",
     "output_type": "stream",
     "text": [
      "Shuffled list: [3, 5, 2, 4, 1]\n"
     ]
    }
   ],
   "source": [
    "# 70) How will you randomize the items of a list in place?\n",
    "import random\n",
    "\n",
    "my_list = [1, 2, 3, 4, 5]\n",
    "random.shuffle(my_list)\n",
    "print(\"Shuffled list:\", my_list)\n"
   ]
  },
  {
   "cell_type": "markdown",
   "id": "34b8b126",
   "metadata": {},
   "source": [
    "### 71)What is File function in python? What are keywords to create and write file.\n",
    "File function: open() is used to open a file.\n",
    "\n",
    "Syntax: open(filename, mode)\n",
    "\n",
    "Common modes:\n",
    "\n",
    "'w' – Write (creates new or overwrites)\n",
    "\n",
    "'a' – Append\n",
    "\n",
    "'r' – Read\n",
    "\n",
    "'x' – Exclusive creation\n",
    "\n",
    "'b' – Binary mode\n",
    "\n",
    "'t' – Text mode (default)\n",
    "\n"
   ]
  },
  {
   "cell_type": "code",
   "execution_count": 129,
   "id": "565d194b",
   "metadata": {},
   "outputs": [
    {
     "name": "stdout",
     "output_type": "stream",
     "text": [
      "\n",
      "This is new appended line.\n"
     ]
    }
   ],
   "source": [
    "# 72)Write a Python program to read an entire text file.\n",
    "with open('sample.txt', 'r') as file:\n",
    "    content = file.read()\n",
    "    print(content)"
   ]
  },
  {
   "cell_type": "code",
   "execution_count": 125,
   "id": "eba59b7a",
   "metadata": {},
   "outputs": [
    {
     "name": "stdout",
     "output_type": "stream",
     "text": [
      "\n",
      "This is new appended line.\n"
     ]
    }
   ],
   "source": [
    "# 73)Write a Python program to append text to a file and display the text.\n",
    "with open('sample.txt', 'a') as file:\n",
    "    file.write('\\nThis is new appended line.')\n",
    "\n",
    "with open('sample.txt', 'r') as file:\n",
    "    print(file.read())"
   ]
  },
  {
   "cell_type": "code",
   "execution_count": 127,
   "id": "e3923924",
   "metadata": {},
   "outputs": [
    {
     "name": "stdout",
     "output_type": "stream",
     "text": [
      "\n",
      "This is new appended line.\n",
      "\n"
     ]
    }
   ],
   "source": [
    "# 74)Write a Python program to read first n lines of a file.\n",
    "def read_first_n_lines(filename, n):\n",
    "    with open(filename, 'r') as file:\n",
    "        for i in range(n):\n",
    "            print(file.readline().strip())\n",
    "\n",
    "read_first_n_lines('sample.txt', 3)\n"
   ]
  },
  {
   "cell_type": "code",
   "execution_count": 128,
   "id": "7530c22d",
   "metadata": {},
   "outputs": [
    {
     "name": "stdout",
     "output_type": "stream",
     "text": [
      "\n",
      "This is new appended line.\n"
     ]
    }
   ],
   "source": [
    "# 75)Write a Python program to read last n lines of a file.\n",
    "def read_last_n_lines(filename, n):\n",
    "    with open(filename, 'r') as file:\n",
    "        lines = file.readlines()\n",
    "        for line in lines[-n:]:\n",
    "            print(line.strip())\n",
    "\n",
    "read_last_n_lines('sample.txt', 3)\n"
   ]
  },
  {
   "cell_type": "code",
   "execution_count": 130,
   "id": "147b0a9a",
   "metadata": {},
   "outputs": [
    {
     "name": "stdout",
     "output_type": "stream",
     "text": [
      "['\\n', 'This is new appended line.']\n"
     ]
    }
   ],
   "source": [
    "# 76)Write a Python program to read a file line by line and store it into a list\n",
    "with open('sample.txt', 'r') as file:\n",
    "    lines = file.readlines()\n",
    "\n",
    "print(lines)\n"
   ]
  },
  {
   "cell_type": "code",
   "execution_count": 131,
   "id": "c98a5135",
   "metadata": {},
   "outputs": [
    {
     "name": "stdout",
     "output_type": "stream",
     "text": [
      "\n",
      "This is new appended line.\n"
     ]
    }
   ],
   "source": [
    "# 77)Write a Python program to read a file line by line store it into a variable.\n",
    "with open('sample.txt', 'r') as file:\n",
    "    content = file.read()\n",
    "\n",
    "print(content)\n"
   ]
  },
  {
   "cell_type": "code",
   "execution_count": 132,
   "id": "9eceb6b6",
   "metadata": {},
   "outputs": [
    {
     "name": "stdout",
     "output_type": "stream",
     "text": [
      "['appended']\n"
     ]
    }
   ],
   "source": [
    "# 78)Write a python program to find the longest words.\n",
    "def longest_words(filename):\n",
    "    with open(filename, 'r') as file:\n",
    "        words = file.read().split()\n",
    "        max_len = max(len(word) for word in words)\n",
    "        longest = [word for word in words if len(word) == max_len]\n",
    "    return longest\n",
    "\n",
    "print(longest_words('sample.txt'))\n"
   ]
  },
  {
   "cell_type": "code",
   "execution_count": 133,
   "id": "9ce926d3",
   "metadata": {},
   "outputs": [
    {
     "name": "stdout",
     "output_type": "stream",
     "text": [
      "Number of lines: 2\n"
     ]
    }
   ],
   "source": [
    "# 79)Write a Python program to count the number of lines in a text file.\n",
    "with open('sample.txt', 'r') as file:\n",
    "    line_count = len(file.readlines())\n",
    "\n",
    "print(\"Number of lines:\", line_count)\n"
   ]
  },
  {
   "cell_type": "code",
   "execution_count": 134,
   "id": "47a61a9e",
   "metadata": {},
   "outputs": [
    {
     "name": "stdout",
     "output_type": "stream",
     "text": [
      "Counter({'This': 1, 'is': 1, 'new': 1, 'appended': 1, 'line.': 1})\n"
     ]
    }
   ],
   "source": [
    "# 80)Write a Python program to count the frequency of words in a file.\n",
    "from collections import Counter\n",
    "\n",
    "with open('sample.txt', 'r') as file:\n",
    "    words = file.read().split()\n",
    "    frequency = Counter(words)\n",
    "\n",
    "print(frequency)\n"
   ]
  },
  {
   "cell_type": "code",
   "execution_count": 135,
   "id": "732309ff",
   "metadata": {},
   "outputs": [],
   "source": [
    "# 81)Write a Python program to write a list to a file.\n",
    "my_list = ['apple', 'banana', 'cherry']\n",
    "\n",
    "with open('fruits.txt', 'w') as file:\n",
    "    for item in my_list:\n",
    "        file.write(item + '\\n')\n"
   ]
  },
  {
   "cell_type": "code",
   "execution_count": 136,
   "id": "8bb98b43",
   "metadata": {},
   "outputs": [
    {
     "ename": "FileNotFoundError",
     "evalue": "[Errno 2] No such file or directory: 'source.txt'",
     "output_type": "error",
     "traceback": [
      "\u001b[0;31m---------------------------------------------------------------------------\u001b[0m",
      "\u001b[0;31mFileNotFoundError\u001b[0m                         Traceback (most recent call last)",
      "Cell \u001b[0;32mIn[136], line 2\u001b[0m\n\u001b[1;32m      1\u001b[0m \u001b[38;5;66;03m# 82)Write a Python program to copy the contents of a file to another file.\u001b[39;00m\n\u001b[0;32m----> 2\u001b[0m \u001b[38;5;28;01mwith\u001b[39;00m \u001b[38;5;28mopen\u001b[39m(\u001b[38;5;124m'\u001b[39m\u001b[38;5;124msource.txt\u001b[39m\u001b[38;5;124m'\u001b[39m, \u001b[38;5;124m'\u001b[39m\u001b[38;5;124mr\u001b[39m\u001b[38;5;124m'\u001b[39m) \u001b[38;5;28;01mas\u001b[39;00m src, \u001b[38;5;28mopen\u001b[39m(\u001b[38;5;124m'\u001b[39m\u001b[38;5;124mdestination.txt\u001b[39m\u001b[38;5;124m'\u001b[39m, \u001b[38;5;124m'\u001b[39m\u001b[38;5;124mw\u001b[39m\u001b[38;5;124m'\u001b[39m) \u001b[38;5;28;01mas\u001b[39;00m dst:\n\u001b[1;32m      3\u001b[0m     \u001b[38;5;28;01mfor\u001b[39;00m line \u001b[38;5;129;01min\u001b[39;00m src:\n\u001b[1;32m      4\u001b[0m         dst\u001b[38;5;241m.\u001b[39mwrite(line)\n",
      "File \u001b[0;32m~/anaconda3/lib/python3.11/site-packages/IPython/core/interactiveshell.py:286\u001b[0m, in \u001b[0;36m_modified_open\u001b[0;34m(file, *args, **kwargs)\u001b[0m\n\u001b[1;32m    279\u001b[0m \u001b[38;5;28;01mif\u001b[39;00m file \u001b[38;5;129;01min\u001b[39;00m {\u001b[38;5;241m0\u001b[39m, \u001b[38;5;241m1\u001b[39m, \u001b[38;5;241m2\u001b[39m}:\n\u001b[1;32m    280\u001b[0m     \u001b[38;5;28;01mraise\u001b[39;00m \u001b[38;5;167;01mValueError\u001b[39;00m(\n\u001b[1;32m    281\u001b[0m         \u001b[38;5;124mf\u001b[39m\u001b[38;5;124m\"\u001b[39m\u001b[38;5;124mIPython won\u001b[39m\u001b[38;5;124m'\u001b[39m\u001b[38;5;124mt let you open fd=\u001b[39m\u001b[38;5;132;01m{\u001b[39;00mfile\u001b[38;5;132;01m}\u001b[39;00m\u001b[38;5;124m by default \u001b[39m\u001b[38;5;124m\"\u001b[39m\n\u001b[1;32m    282\u001b[0m         \u001b[38;5;124m\"\u001b[39m\u001b[38;5;124mas it is likely to crash IPython. If you know what you are doing, \u001b[39m\u001b[38;5;124m\"\u001b[39m\n\u001b[1;32m    283\u001b[0m         \u001b[38;5;124m\"\u001b[39m\u001b[38;5;124myou can use builtins\u001b[39m\u001b[38;5;124m'\u001b[39m\u001b[38;5;124m open.\u001b[39m\u001b[38;5;124m\"\u001b[39m\n\u001b[1;32m    284\u001b[0m     )\n\u001b[0;32m--> 286\u001b[0m \u001b[38;5;28;01mreturn\u001b[39;00m io_open(file, \u001b[38;5;241m*\u001b[39margs, \u001b[38;5;241m*\u001b[39m\u001b[38;5;241m*\u001b[39mkwargs)\n",
      "\u001b[0;31mFileNotFoundError\u001b[0m: [Errno 2] No such file or directory: 'source.txt'"
     ]
    }
   ],
   "source": [
    "# 82)Write a Python program to copy the contents of a file to another file.\n",
    "with open('source.txt', 'r') as src, open('destination.txt', 'w') as dst:\n",
    "    for line in src:\n",
    "        dst.write(line)\n"
   ]
  },
  {
   "cell_type": "markdown",
   "id": "10a29fdf",
   "metadata": {},
   "source": [
    "### 83)Explain Exception handling? What is an Error in Python?\n",
    "Exception Handling lets you deal with runtime errors using try, except, else, and finally.\n",
    "\n",
    "Error: A problem in a program that causes it to crash.\n",
    "\n"
   ]
  },
  {
   "cell_type": "markdown",
   "id": "93b0a44d",
   "metadata": {},
   "source": [
    "### 84)How many except statements can a try-except block have? Name Some built-in exception classes:\n",
    "A try block can have multiple except blocks.\n",
    "\n",
    "Built-in exceptions:\n",
    "\n",
    "ZeroDivisionError\n",
    "\n",
    "ValueError\n",
    "\n",
    "TypeError\n",
    "\n",
    "KeyError\n",
    "\n",
    "IndexError\n",
    "\n",
    "FileNotFoundError\n",
    "\n"
   ]
  },
  {
   "cell_type": "markdown",
   "id": "1f199561",
   "metadata": {},
   "source": [
    "### 85)When will the else part of try-except-else be executed?\n",
    "The else block runs only if no exception is raised in the try block."
   ]
  },
  {
   "cell_type": "code",
   "execution_count": 137,
   "id": "0d04607f",
   "metadata": {},
   "outputs": [],
   "source": [
    "# 86)Can one block of except statements handle multiple exception? ->>YES\n",
    "try:\n",
    "    # risky code\n",
    "    pass\n",
    "except (ValueError, TypeError) as e:\n",
    "    print(\"Caught error:\", e)\n"
   ]
  },
  {
   "cell_type": "markdown",
   "id": "85951a1b",
   "metadata": {},
   "source": [
    "### 87)When is the finally block executed?\n",
    "Always executed whether an exception occurs or not — useful for cleanup."
   ]
  },
  {
   "cell_type": "code",
   "execution_count": 139,
   "id": "da1eab5a",
   "metadata": {},
   "outputs": [
    {
     "name": "stdout",
     "output_type": "stream",
     "text": [
      "False\n"
     ]
    }
   ],
   "source": [
    "# 88)What happens when „1‟== 1 is executed?\n",
    "print('1' == 1)  #Output: False  \n",
    "# Because it's comparing string with integer — different data types.\n",
    "\n"
   ]
  },
  {
   "cell_type": "code",
   "execution_count": 140,
   "id": "b9a9359a",
   "metadata": {},
   "outputs": [
    {
     "name": "stdout",
     "output_type": "stream",
     "text": [
      "Enter a number: 81\n",
      "Result: 0.12345679012345678\n",
      "This always runs.\n"
     ]
    }
   ],
   "source": [
    "# 89)How Do You Handle Exceptions with Try/Except/Finally in Python?\n",
    "# Explain with coding snippets.\n",
    "try:\n",
    "    x = int(input(\"Enter a number: \"))\n",
    "    result = 10 / x\n",
    "except ZeroDivisionError:\n",
    "    print(\"Can't divide by zero!\")\n",
    "except ValueError:\n",
    "    print(\"Invalid input!\")\n",
    "else:\n",
    "    print(\"Result:\", result)\n",
    "finally:\n",
    "    print(\"This always runs.\")\n"
   ]
  },
  {
   "cell_type": "code",
   "execution_count": 141,
   "id": "7101461c",
   "metadata": {},
   "outputs": [
    {
     "name": "stdout",
     "output_type": "stream",
     "text": [
      "Enter an odd number: 72\n",
      "Error: That's not an odd number!\n"
     ]
    }
   ],
   "source": [
    "# 90)Write python program that user to enter only odd numbers, else\n",
    "# will raise an exception. \n",
    "def get_odd_number():\n",
    "    try:\n",
    "        num = int(input(\"Enter an odd number: \"))\n",
    "        if num % 2 == 0:\n",
    "            raise ValueError(\"That's not an odd number!\")\n",
    "        print(\"Thanks for the odd number!\")\n",
    "    except ValueError as e:\n",
    "        print(\"Error:\", e)\n",
    "\n",
    "get_odd_number()\n"
   ]
  },
  {
   "cell_type": "code",
   "execution_count": null,
   "id": "2025d4ee",
   "metadata": {},
   "outputs": [],
   "source": []
  }
 ],
 "metadata": {
  "kernelspec": {
   "display_name": "Python 3 (ipykernel)",
   "language": "python",
   "name": "python3"
  },
  "language_info": {
   "codemirror_mode": {
    "name": "ipython",
    "version": 3
   },
   "file_extension": ".py",
   "mimetype": "text/x-python",
   "name": "python",
   "nbconvert_exporter": "python",
   "pygments_lexer": "ipython3",
   "version": "3.11.5"
  }
 },
 "nbformat": 4,
 "nbformat_minor": 5
}
